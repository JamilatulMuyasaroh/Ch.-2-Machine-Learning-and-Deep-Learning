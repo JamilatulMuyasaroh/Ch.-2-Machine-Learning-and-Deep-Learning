{
  "cells": [
    {
      "cell_type": "markdown",
      "metadata": {
        "id": "Avr_BuLrV23M"
      },
      "source": [
        "# Assignment Chapter 2 - DEEP LEARNING [Case #3]\n",
        "Startup Campus, Indonesia - `Artificial Intelligence (AI)` (Batch 7)\n",
        "* Task: **REGRESSION**\n",
        "* DL Framework: **Tensorflow-Keras**\n",
        "* Dataset: California House Price\n",
        "* Libraries: Pandas, Numpy, Scikit-learn, Matplotlib\n",
        "* Objective: Predict House Pricing with Dual Input Settings using Multilayer Perceptron\n",
        "\n",
        "`PERSYARATAN` Semua modul (termasuk versi yang sesuai) sudah di-install dengan benar.\n",
        "<br>`CARA PENGERJAAN` Lengkapi baris kode yang ditandai dengan **#TODO**.\n",
        "<br>`TARGET PORTFOLIO` Peserta mampu memprediksi harga rumah menggunakan *Multilayer Perceptron*"
      ]
    },
    {
      "cell_type": "markdown",
      "metadata": {
        "id": "SxCpaeLXSxhD"
      },
      "source": [
        "### Import Libraries"
      ]
    },
    {
      "cell_type": "code",
      "execution_count": null,
      "metadata": {
        "id": "1aQumKTMEnYv"
      },
      "outputs": [],
      "source": [
        "import pandas as pd\n",
        "import numpy as np\n",
        "import tensorflow as tf\n",
        "from tensorflow import keras\n",
        "\n",
        "from sklearn.datasets import fetch_california_housing\n",
        "from sklearn.model_selection import train_test_split\n",
        "from sklearn.preprocessing import StandardScaler\n",
        "from sklearn.preprocessing import MinMaxScaler\n",
        "from matplotlib import pyplot as plt"
      ]
    },
    {
      "cell_type": "markdown",
      "metadata": {
        "id": "Enb6t0fMSxhE"
      },
      "source": [
        "### Load Dataset"
      ]
    },
    {
      "cell_type": "code",
      "execution_count": null,
      "metadata": {
        "colab": {
          "base_uri": "https://localhost:8080/"
        },
        "id": "5KlPLjf8EnYy",
        "outputId": "164f80ef-6316-47d5-813d-901173e4d476"
      },
      "outputs": [
        {
          "name": "stdout",
          "output_type": "stream",
          "text": [
            "Features name: ['MedInc', 'HouseAge', 'AveRooms', 'AveBedrms', 'Population', 'AveOccup', 'Latitude', 'Longitude']\n",
            "Features data:\n",
            "[[   8.3252       41.            6.98412698 ...    2.55555556\n",
            "    37.88       -122.23      ]\n",
            " [   8.3014       21.            6.23813708 ...    2.10984183\n",
            "    37.86       -122.22      ]\n",
            " [   7.2574       52.            8.28813559 ...    2.80225989\n",
            "    37.85       -122.24      ]\n",
            " ...\n",
            " [   1.7          17.            5.20554273 ...    2.3256351\n",
            "    39.43       -121.22      ]\n",
            " [   1.8672       18.            5.32951289 ...    2.12320917\n",
            "    39.43       -121.32      ]\n",
            " [   2.3886       16.            5.25471698 ...    2.61698113\n",
            "    39.37       -121.24      ]]\n",
            "Target data:\n",
            "[4.526 3.585 3.521 ... 0.923 0.847 0.894]\n"
          ]
        }
      ],
      "source": [
        "housing = fetch_california_housing()\n",
        "print(\"Features name: {}\".format(housing.feature_names))\n",
        "print(\"Features data:\\n{}\".format(housing.data))\n",
        "print(\"Target data:\\n{}\".format(housing.target)) # target is the house price"
      ]
    },
    {
      "cell_type": "code",
      "execution_count": null,
      "metadata": {
        "colab": {
          "base_uri": "https://localhost:8080/"
        },
        "id": "yeAkxkCOEnY0",
        "outputId": "2c08892f-ab4f-4f1a-daf8-8ec56828d259"
      },
      "outputs": [
        {
          "name": "stdout",
          "output_type": "stream",
          "text": [
            "   MedInc  HouseAge  AveRooms  AveBedrms  Population  AveOccup  Latitude  \\\n",
            "0  8.3252      41.0  6.984127   1.023810       322.0  2.555556     37.88   \n",
            "1  8.3014      21.0  6.238137   0.971880      2401.0  2.109842     37.86   \n",
            "2  7.2574      52.0  8.288136   1.073446       496.0  2.802260     37.85   \n",
            "3  5.6431      52.0  5.817352   1.073059       558.0  2.547945     37.85   \n",
            "4  3.8462      52.0  6.281853   1.081081       565.0  2.181467     37.85   \n",
            "\n",
            "   Longitude  Target  \n",
            "0    -122.23   4.526  \n",
            "1    -122.22   3.585  \n",
            "2    -122.24   3.521  \n",
            "3    -122.25   3.413  \n",
            "4    -122.25   3.422  \n"
          ]
        }
      ],
      "source": [
        "# TODO: Ubah \"features\" dan \"target\" dari Numpy Array ke Pandas DataFrame\n",
        "features_df = pd.DataFrame(housing.data, columns=housing.feature_names)\n",
        "target_df = pd.DataFrame(housing.target, columns=[\"Target\"])\n",
        "datafr = pd.concat([features_df, target_df], axis=1)\n",
        "print(datafr.head())"
      ]
    },
    {
      "cell_type": "markdown",
      "metadata": {
        "id": "-raALwdhEnY1"
      },
      "source": [
        "### Train / Validation / Test Split"
      ]
    },
    {
      "cell_type": "code",
      "execution_count": null,
      "metadata": {
        "colab": {
          "base_uri": "https://localhost:8080/"
        },
        "id": "-TxJy_hzEnY1",
        "outputId": "157ec806-5f24-41eb-e10a-7d7adb40133c"
      },
      "outputs": [
        {
          "name": "stdout",
          "output_type": "stream",
          "text": [
            "x_train (13209, 8) y_train (13209,)\n",
            "x_val (3303, 8) y_val (3303,)\n",
            "x_test (4128, 8) y_test (4128,)\n"
          ]
        }
      ],
      "source": [
        "# TODO: Pisahkan data menjadi train, validation, dan test\n",
        "# HINT: Pertama, pisahkan data menjadi train dan test.\n",
        "#       Selanjutnya, pisahkan data train menjadi dua, yaitu data train dan data validation.\n",
        "\n",
        "# Memisahkan fitur dan target dari datafr\n",
        "x = datafr[housing.feature_names]\n",
        "y = datafr[\"Target\"]\n",
        "\n",
        "# Memisahkan data menjadi train (80%) dan test (20%)\n",
        "x_train, x_test, y_train, y_test = train_test_split(x, y, test_size=0.2, random_state=42)\n",
        "x_train, x_val, y_train, y_val = train_test_split(x_train, y_train, test_size=0.2, random_state=42)\n",
        "\n",
        "print(\"x_train\", x_train.shape, \"y_train\", y_train.shape)\n",
        "print(\"x_val\", x_val.shape, \"y_val\", y_val.shape)\n",
        "print(\"x_test\", x_test.shape, \"y_test\", y_test.shape)"
      ]
    },
    {
      "cell_type": "markdown",
      "metadata": {
        "id": "-JJ7qi6rEnY1"
      },
      "source": [
        "### Standardization and Normalization"
      ]
    },
    {
      "cell_type": "code",
      "execution_count": null,
      "metadata": {
        "colab": {
          "base_uri": "https://localhost:8080/"
        },
        "id": "zLhdXLVIEnY1",
        "outputId": "bb385178-0a6c-4f65-84b6-6f66afa3dcb3"
      },
      "outputs": [
        {
          "name": "stdout",
          "output_type": "stream",
          "text": [
            "x_train standar:\n",
            " [[ 0.44340968 -0.12449485  0.5204714   0.05758629 -0.48710064  0.05165771\n",
            "   1.10281811 -0.69155432]\n",
            " [ 0.00321001 -1.07770852 -0.17083875 -0.04872181  1.69902706 -0.05515937\n",
            "  -0.72493883  0.8544348 ]\n",
            " [-0.52181236 -0.20392932 -0.06125032  0.28089603 -0.13535041 -0.01697183\n",
            "  -0.88428174  0.86440892]\n",
            " [ 0.59850347  0.43154646  0.49756019  0.10982954 -0.63483574 -0.04173809\n",
            "  -0.60777493 -0.07814573]\n",
            " [ 0.61813493 -0.28336379  0.45553373 -0.22625511  0.37820493 -0.07532334\n",
            "   1.33714592 -0.96085565]]\n",
            "x_val standar:\n",
            " [[-0.17537802  0.51098093  0.5302405  -0.13220911 -0.78257084 -0.01150308\n",
            "   0.51231202 -0.13300341]\n",
            " [-0.8976145  -0.44223274 -0.53480533 -0.28120633 -0.32265741 -0.04541862\n",
            "   2.5181581  -2.28242699]\n",
            " [ 0.17894064 -1.15714299 -0.70953856 -0.09892453  1.51347882 -0.15285569\n",
            "  -0.92646075  0.82949949]\n",
            " [ 0.16073789 -1.47488089 -0.62243171 -0.30675593 -0.80015835 -0.1583252\n",
            "  -0.70150605  0.56518522]\n",
            " [ 1.71754935 -0.04506038  0.6652203  -0.20974806 -0.52315504 -0.09211493\n",
            "  -0.94520698  0.83947361]]\n",
            "x_test standar:\n",
            " [[-1.15763869 -0.28336379 -0.57962896 -0.18908216 -0.03070471  0.12364657\n",
            "   0.19362619  0.28590977]\n",
            " [-0.70780849  0.11380857 -0.17981591  0.26021715  0.12142726 -0.05098189\n",
            "  -0.23753698  0.06149199]\n",
            " [-0.20575122  1.86136697 -0.68111604  0.24023151 -0.10281351 -0.24337286\n",
            "   1.00908698 -1.42465238]\n",
            " [ 0.98880432 -0.91883958  0.35075535 -0.19454617  0.24453984  0.06051182\n",
            "  -0.64058082  0.43053456]\n",
            " [-0.07616245  0.43154646  0.03425595 -0.17398403 -0.32001928 -0.0795825\n",
            "   0.45607335 -1.17031224]]\n"
          ]
        }
      ],
      "source": [
        "# TODO: Lakukan standarisasi untuk data train, validation, dan test menggunakan StandardScaler()\n",
        "\n",
        "scaler = StandardScaler()\n",
        "\n",
        "x_train = scaler.fit_transform(x_train)\n",
        "x_val = scaler.transform(x_val)\n",
        "x_test = scaler.transform(x_test)\n",
        "\n",
        "# Menampilkan contoh hasil standarisasi\n",
        "print(\"x_train standar:\\n\", x_train[:5])\n",
        "print(\"x_val standar:\\n\", x_val[:5])\n",
        "print(\"x_test standar:\\n\", x_test[:5])"
      ]
    },
    {
      "cell_type": "code",
      "execution_count": null,
      "metadata": {
        "colab": {
          "base_uri": "https://localhost:8080/"
        },
        "id": "u0w4Pz5oEnY2",
        "outputId": "87917071-cfa6-4afa-c697-e3e7ea5745bc"
      },
      "outputs": [
        {
          "name": "stdout",
          "output_type": "stream",
          "text": [
            "x_train normal:\n",
            " [[0.29013393 0.50980392 0.09248248 0.04962538 0.02438409 0.00449301\n",
            "  0.57933972 0.33665339]\n",
            " [0.23276231 0.2745098  0.06843844 0.04691344 0.09406093 0.00327006\n",
            "  0.16400426 0.64541833]\n",
            " [0.16433566 0.49019608 0.07224997 0.05532204 0.03559517 0.00370727\n",
            "  0.12779553 0.64741036]\n",
            " [0.31034744 0.64705882 0.09168562 0.05095811 0.01967544 0.00342372\n",
            "  0.19062833 0.45916335]\n",
            " [0.31290603 0.47058824 0.09022393 0.04238454 0.05196334 0.0030392\n",
            "  0.63258786 0.28286853]]\n",
            "x_val normal:\n",
            " [[0.20948677 0.66666667 0.09282226 0.04478367 0.01496679 0.00376988\n",
            "  0.44515442 0.44820717]\n",
            " [0.11535703 0.43137255 0.05577953 0.04098273 0.02962527 0.00338158\n",
            "  0.90095847 0.0189243 ]\n",
            " [0.25566544 0.25490196 0.04970224 0.04563276 0.08814709 0.00215153\n",
            "  0.11821086 0.64043825]\n",
            " [0.25329306 0.17647059 0.05273185 0.04033095 0.01440623 0.00208891\n",
            "  0.16932907 0.5876494 ]\n",
            " [0.45619371 0.52941176 0.09751691 0.04280564 0.02323496 0.00284695\n",
            "  0.11395101 0.64243028]]\n",
            "x_test normal:\n",
            " [[0.08146784 0.47058824 0.05422055 0.04333283 0.03893046 0.00531722\n",
            "  0.37273695 0.53187251]\n",
            " [0.14009462 0.56862745 0.06812621 0.05479452 0.04377925 0.00331789\n",
            "  0.27476038 0.48705179]\n",
            " [0.2055282  1.         0.05069079 0.05428468 0.03663219 0.00111519\n",
            "  0.55804047 0.19023904]\n",
            " [0.36121571 0.31372549 0.08657969 0.04319344 0.04770313 0.00459438\n",
            "  0.18317359 0.56075697]\n",
            " [0.22241762 0.64705882 0.07557171 0.04371798 0.02970935 0.00299044\n",
            "  0.43237487 0.24103586]]\n"
          ]
        }
      ],
      "source": [
        "# TODO: Lakukan normalisasi untuk data train, validation, dan test menggunakan MinMaxScaler()\n",
        "scaler = MinMaxScaler()\n",
        "\n",
        "x_train = scaler.fit_transform(x_train)\n",
        "\n",
        "x_val = scaler.transform(x_val)\n",
        "x_test = scaler.transform(x_test)\n",
        "\n",
        "print(\"x_train normal:\\n\", x_train[:5])\n",
        "print(\"x_val normal:\\n\", x_val[:5])\n",
        "print(\"x_test normal:\\n\", x_test[:5])"
      ]
    },
    {
      "cell_type": "markdown",
      "metadata": {
        "id": "ZhPvRD3nEnY2"
      },
      "source": [
        "### Advanced Splitting\n",
        "Perform an advance split into **multiple overlapping input (A and B)**, where **input A** consists of feature 0 to 4 and **input B** consists of feature 2 to 7."
      ]
    },
    {
      "cell_type": "code",
      "execution_count": null,
      "metadata": {
        "colab": {
          "base_uri": "https://localhost:8080/"
        },
        "id": "SUyDjaZ5EnY2",
        "outputId": "095d952a-773e-4e22-8ece-453a446dd8a0"
      },
      "outputs": [
        {
          "name": "stdout",
          "output_type": "stream",
          "text": [
            "x_train_A (13209, 5) x_train_B (13209, 6)\n",
            "x_val_A (3303, 5) x_val_B (3303, 6)\n",
            "x_test_A (4128, 5) x_test_B (4128, 6)\n"
          ]
        }
      ],
      "source": [
        "x_train_A, x_train_B = x_train[:, :5], x_train[:, 2:]\n",
        "x_val_A, x_val_B = x_val[:, :5], x_val[:, 2:]\n",
        "x_test_A, x_test_B = x_test[:, :5], x_test[:, 2:]\n",
        "\n",
        "# samples to predict after training\n",
        "x_new_A, x_new_B = x_test_A[:3], x_test_B[:3]\n",
        "\n",
        "print(\"x_train_A\", x_train_A.shape, \"x_train_B\", x_train_B.shape)\n",
        "print(\"x_val_A\", x_val_A.shape, \"x_val_B\", x_val_B.shape)\n",
        "print(\"x_test_A\", x_test_A.shape, \"x_test_B\", x_test_B.shape)"
      ]
    },
    {
      "cell_type": "markdown",
      "metadata": {
        "id": "uvGtH1jNEnY3"
      },
      "source": [
        "### Regression Modeling with Neural Network"
      ]
    },
    {
      "cell_type": "markdown",
      "metadata": {
        "id": "861X-2gEEnY3"
      },
      "source": [
        "<font color=\"red\">**- - - - MOHON DIPERHATIKAN - - - -**</font>\n",
        "<br> Keras/Tensorflow akan **secara otomatis** menambah layer neural network apabila kamu menjalankan ulang *cell* terkait. Jadi, silakan <b>*restart kernel*</b> dan jalankan ulang (*rerun*) semua kode agar hasil sesuai."
      ]
    },
    {
      "cell_type": "markdown",
      "metadata": {
        "id": "kIr1Z7VMEnY3"
      },
      "source": [
        "> <font color=\"red\"> **(Step 1) Build the Model**</font>\n",
        "\n",
        "Yang dilakukan pada tahap ini:\n",
        "* Tentukan *parameters*, yaitu `weight` dan `bias`\n",
        "* Tentukan *hyperparameters*, yaitu total neurons di (1) input layers, (2) hidden layers, and (3) output layer\n",
        "* Tentukan *activation functions*\n",
        "\n",
        "<br> Lihat dokumentasi **Keras Core Layers** [**disini**](https://keras.io/api/layers/core_layers/).\n",
        "<br> Lihat dokumentasi **Keras Model.summary()** dan **Model.get_layers() method**  [**disini**](https://keras.io/api/models/model/#summary-method).\n",
        "<br> Lihat dokumentasi **Keras Layer Initializer** untuk *weights* (*kernel_initializer*) dan *biases* (*bias_initializer*) [**disini**](https://keras.io/api/layers/initializers/).\n",
        "<br> Lihat dokumentasi **Keras Activation Functions** [**disini**](https://keras.io/api/layers/activations/).\n",
        "\n",
        "Secara default di bagian `.layers.Dense()`, sudah ditentukan `activation=None`, `kernel_initializer=\"glorot_uniform\"` dan `bias_initializer=\"zeros\"`."
      ]
    },
    {
      "cell_type": "code",
      "execution_count": null,
      "metadata": {
        "colab": {
          "base_uri": "https://localhost:8080/",
          "height": 353
        },
        "id": "5bEFpzTjEnY4",
        "outputId": "04574e95-0bcb-4399-d385-b9c9767c44b2"
      },
      "outputs": [
        {
          "data": {
            "text/html": [
              "<pre style=\"white-space:pre;overflow-x:auto;line-height:normal;font-family:Menlo,'DejaVu Sans Mono',consolas,'Courier New',monospace\"><span style=\"font-weight: bold\">Model: \"functional\"</span>\n",
              "</pre>\n"
            ],
            "text/plain": [
              "\u001b[1mModel: \"functional\"\u001b[0m\n"
            ]
          },
          "metadata": {},
          "output_type": "display_data"
        },
        {
          "data": {
            "text/html": [
              "<pre style=\"white-space:pre;overflow-x:auto;line-height:normal;font-family:Menlo,'DejaVu Sans Mono',consolas,'Courier New',monospace\">┏━━━━━━━━━━━━━━━━━━━━━━━━━━━┳━━━━━━━━━━━━━━━━━━━━━━━━┳━━━━━━━━━━━━━━━━┳━━━━━━━━━━━━━━━━━━━━━━━━┓\n",
              "┃<span style=\"font-weight: bold\"> Layer (type)              </span>┃<span style=\"font-weight: bold\"> Output Shape           </span>┃<span style=\"font-weight: bold\">        Param # </span>┃<span style=\"font-weight: bold\"> Connected to           </span>┃\n",
              "┡━━━━━━━━━━━━━━━━━━━━━━━━━━━╇━━━━━━━━━━━━━━━━━━━━━━━━╇━━━━━━━━━━━━━━━━╇━━━━━━━━━━━━━━━━━━━━━━━━┩\n",
              "│ input_layer_1             │ (<span style=\"color: #00d7ff; text-decoration-color: #00d7ff\">None</span>, <span style=\"color: #00af00; text-decoration-color: #00af00\">6</span>)              │              <span style=\"color: #00af00; text-decoration-color: #00af00\">0</span> │ -                      │\n",
              "│ (<span style=\"color: #0087ff; text-decoration-color: #0087ff\">InputLayer</span>)              │                        │                │                        │\n",
              "├───────────────────────────┼────────────────────────┼────────────────┼────────────────────────┤\n",
              "│ dense (<span style=\"color: #0087ff; text-decoration-color: #0087ff\">Dense</span>)             │ (<span style=\"color: #00d7ff; text-decoration-color: #00d7ff\">None</span>, <span style=\"color: #00af00; text-decoration-color: #00af00\">30</span>)             │            <span style=\"color: #00af00; text-decoration-color: #00af00\">210</span> │ input_layer_1[<span style=\"color: #00af00; text-decoration-color: #00af00\">0</span>][<span style=\"color: #00af00; text-decoration-color: #00af00\">0</span>]    │\n",
              "├───────────────────────────┼────────────────────────┼────────────────┼────────────────────────┤\n",
              "│ input_layer (<span style=\"color: #0087ff; text-decoration-color: #0087ff\">InputLayer</span>)  │ (<span style=\"color: #00d7ff; text-decoration-color: #00d7ff\">None</span>, <span style=\"color: #00af00; text-decoration-color: #00af00\">5</span>)              │              <span style=\"color: #00af00; text-decoration-color: #00af00\">0</span> │ -                      │\n",
              "├───────────────────────────┼────────────────────────┼────────────────┼────────────────────────┤\n",
              "│ dense_1 (<span style=\"color: #0087ff; text-decoration-color: #0087ff\">Dense</span>)           │ (<span style=\"color: #00d7ff; text-decoration-color: #00d7ff\">None</span>, <span style=\"color: #00af00; text-decoration-color: #00af00\">30</span>)             │            <span style=\"color: #00af00; text-decoration-color: #00af00\">930</span> │ dense[<span style=\"color: #00af00; text-decoration-color: #00af00\">0</span>][<span style=\"color: #00af00; text-decoration-color: #00af00\">0</span>]            │\n",
              "├───────────────────────────┼────────────────────────┼────────────────┼────────────────────────┤\n",
              "│ concatenate (<span style=\"color: #0087ff; text-decoration-color: #0087ff\">Concatenate</span>) │ (<span style=\"color: #00d7ff; text-decoration-color: #00d7ff\">None</span>, <span style=\"color: #00af00; text-decoration-color: #00af00\">35</span>)             │              <span style=\"color: #00af00; text-decoration-color: #00af00\">0</span> │ input_layer[<span style=\"color: #00af00; text-decoration-color: #00af00\">0</span>][<span style=\"color: #00af00; text-decoration-color: #00af00\">0</span>],     │\n",
              "│                           │                        │                │ dense_1[<span style=\"color: #00af00; text-decoration-color: #00af00\">0</span>][<span style=\"color: #00af00; text-decoration-color: #00af00\">0</span>]          │\n",
              "├───────────────────────────┼────────────────────────┼────────────────┼────────────────────────┤\n",
              "│ output (<span style=\"color: #0087ff; text-decoration-color: #0087ff\">Dense</span>)            │ (<span style=\"color: #00d7ff; text-decoration-color: #00d7ff\">None</span>, <span style=\"color: #00af00; text-decoration-color: #00af00\">1</span>)              │             <span style=\"color: #00af00; text-decoration-color: #00af00\">36</span> │ concatenate[<span style=\"color: #00af00; text-decoration-color: #00af00\">0</span>][<span style=\"color: #00af00; text-decoration-color: #00af00\">0</span>]      │\n",
              "└───────────────────────────┴────────────────────────┴────────────────┴────────────────────────┘\n",
              "</pre>\n"
            ],
            "text/plain": [
              "┏━━━━━━━━━━━━━━━━━━━━━━━━━━━┳━━━━━━━━━━━━━━━━━━━━━━━━┳━━━━━━━━━━━━━━━━┳━━━━━━━━━━━━━━━━━━━━━━━━┓\n",
              "┃\u001b[1m \u001b[0m\u001b[1mLayer (type)             \u001b[0m\u001b[1m \u001b[0m┃\u001b[1m \u001b[0m\u001b[1mOutput Shape          \u001b[0m\u001b[1m \u001b[0m┃\u001b[1m \u001b[0m\u001b[1m       Param #\u001b[0m\u001b[1m \u001b[0m┃\u001b[1m \u001b[0m\u001b[1mConnected to          \u001b[0m\u001b[1m \u001b[0m┃\n",
              "┡━━━━━━━━━━━━━━━━━━━━━━━━━━━╇━━━━━━━━━━━━━━━━━━━━━━━━╇━━━━━━━━━━━━━━━━╇━━━━━━━━━━━━━━━━━━━━━━━━┩\n",
              "│ input_layer_1             │ (\u001b[38;5;45mNone\u001b[0m, \u001b[38;5;34m6\u001b[0m)              │              \u001b[38;5;34m0\u001b[0m │ -                      │\n",
              "│ (\u001b[38;5;33mInputLayer\u001b[0m)              │                        │                │                        │\n",
              "├───────────────────────────┼────────────────────────┼────────────────┼────────────────────────┤\n",
              "│ dense (\u001b[38;5;33mDense\u001b[0m)             │ (\u001b[38;5;45mNone\u001b[0m, \u001b[38;5;34m30\u001b[0m)             │            \u001b[38;5;34m210\u001b[0m │ input_layer_1[\u001b[38;5;34m0\u001b[0m][\u001b[38;5;34m0\u001b[0m]    │\n",
              "├───────────────────────────┼────────────────────────┼────────────────┼────────────────────────┤\n",
              "│ input_layer (\u001b[38;5;33mInputLayer\u001b[0m)  │ (\u001b[38;5;45mNone\u001b[0m, \u001b[38;5;34m5\u001b[0m)              │              \u001b[38;5;34m0\u001b[0m │ -                      │\n",
              "├───────────────────────────┼────────────────────────┼────────────────┼────────────────────────┤\n",
              "│ dense_1 (\u001b[38;5;33mDense\u001b[0m)           │ (\u001b[38;5;45mNone\u001b[0m, \u001b[38;5;34m30\u001b[0m)             │            \u001b[38;5;34m930\u001b[0m │ dense[\u001b[38;5;34m0\u001b[0m][\u001b[38;5;34m0\u001b[0m]            │\n",
              "├───────────────────────────┼────────────────────────┼────────────────┼────────────────────────┤\n",
              "│ concatenate (\u001b[38;5;33mConcatenate\u001b[0m) │ (\u001b[38;5;45mNone\u001b[0m, \u001b[38;5;34m35\u001b[0m)             │              \u001b[38;5;34m0\u001b[0m │ input_layer[\u001b[38;5;34m0\u001b[0m][\u001b[38;5;34m0\u001b[0m],     │\n",
              "│                           │                        │                │ dense_1[\u001b[38;5;34m0\u001b[0m][\u001b[38;5;34m0\u001b[0m]          │\n",
              "├───────────────────────────┼────────────────────────┼────────────────┼────────────────────────┤\n",
              "│ output (\u001b[38;5;33mDense\u001b[0m)            │ (\u001b[38;5;45mNone\u001b[0m, \u001b[38;5;34m1\u001b[0m)              │             \u001b[38;5;34m36\u001b[0m │ concatenate[\u001b[38;5;34m0\u001b[0m][\u001b[38;5;34m0\u001b[0m]      │\n",
              "└───────────────────────────┴────────────────────────┴────────────────┴────────────────────────┘\n"
            ]
          },
          "metadata": {},
          "output_type": "display_data"
        },
        {
          "data": {
            "text/html": [
              "<pre style=\"white-space:pre;overflow-x:auto;line-height:normal;font-family:Menlo,'DejaVu Sans Mono',consolas,'Courier New',monospace\"><span style=\"font-weight: bold\"> Total params: </span><span style=\"color: #00af00; text-decoration-color: #00af00\">1,176</span> (4.59 KB)\n",
              "</pre>\n"
            ],
            "text/plain": [
              "\u001b[1m Total params: \u001b[0m\u001b[38;5;34m1,176\u001b[0m (4.59 KB)\n"
            ]
          },
          "metadata": {},
          "output_type": "display_data"
        },
        {
          "data": {
            "text/html": [
              "<pre style=\"white-space:pre;overflow-x:auto;line-height:normal;font-family:Menlo,'DejaVu Sans Mono',consolas,'Courier New',monospace\"><span style=\"font-weight: bold\"> Trainable params: </span><span style=\"color: #00af00; text-decoration-color: #00af00\">1,176</span> (4.59 KB)\n",
              "</pre>\n"
            ],
            "text/plain": [
              "\u001b[1m Trainable params: \u001b[0m\u001b[38;5;34m1,176\u001b[0m (4.59 KB)\n"
            ]
          },
          "metadata": {},
          "output_type": "display_data"
        },
        {
          "data": {
            "text/html": [
              "<pre style=\"white-space:pre;overflow-x:auto;line-height:normal;font-family:Menlo,'DejaVu Sans Mono',consolas,'Courier New',monospace\"><span style=\"font-weight: bold\"> Non-trainable params: </span><span style=\"color: #00af00; text-decoration-color: #00af00\">0</span> (0.00 B)\n",
              "</pre>\n"
            ],
            "text/plain": [
              "\u001b[1m Non-trainable params: \u001b[0m\u001b[38;5;34m0\u001b[0m (0.00 B)\n"
            ]
          },
          "metadata": {},
          "output_type": "display_data"
        }
      ],
      "source": [
        "input_A = keras.layers.Input(shape=[5])\n",
        "input_B = keras.layers.Input(shape=[6])\n",
        "\n",
        "# TODO: Buat hidden layer pertama dengan 30 neuron dan ReLU sebagai activation function\n",
        "hidden1 = keras.layers.Dense(30, activation=\"relu\")(input_B)\n",
        "\n",
        "# TODO: Buat hidden layer kedua dengan 30 neuron dan ReLU sebagai activation function\n",
        "hidden2 = keras.layers.Dense(30, activation=\"relu\")(hidden1)\n",
        "\n",
        "concat = keras.layers.concatenate([input_A, hidden2])\n",
        "output = keras.layers.Dense(1, name=\"output\")(concat)\n",
        "regression_model = keras.Model(inputs=[input_A, input_B], outputs=[output])\n",
        "regression_model.summary()"
      ]
    },
    {
      "cell_type": "markdown",
      "metadata": {
        "id": "uDKOQ_2SEnY4"
      },
      "source": [
        "> <font color=\"red\"> **(Step 2) Compile the Model** </font>\n",
        "\n",
        "Yang dilakukan pada tahap ini:\n",
        "* Tentukan `loss_function`, `optimizer` (termasuk `learning_rate` dan `momentum`), dan `metrics` (opsional)\n",
        "\n",
        "Lihat dokumentasi **Keras Model.compile() method** [**disini**](https://keras.io/api/models/model_training_apis/#compile-method).\n",
        "<br> Lihat dokumentasi **Keras Loss Function** [**disini**](https://keras.io/api/losses/).\n",
        "<br> Lihat dokumentasi **Keras Optimizers** [**disini**](https://keras.io/api/optimizers/).\n",
        "<br> Lihat dokumentasi **Keras Metrics** [**disini**](https://keras.io/api/metrics/)."
      ]
    },
    {
      "cell_type": "code",
      "execution_count": null,
      "metadata": {
        "id": "5418WTH1EnY4"
      },
      "outputs": [],
      "source": [
        "# TODO: Tentukan learning rate\n",
        "lr = 0.001\n",
        "\n",
        "regression_model.compile(\n",
        "    loss=[\"mean_squared_error\"],\n",
        "    optimizer=tf.keras.optimizers.SGD(learning_rate=lr, momentum=0.9),\n",
        "    metrics=[\"mean_absolute_error\"]\n",
        ")"
      ]
    },
    {
      "cell_type": "markdown",
      "metadata": {
        "id": "k0jU9F8nEnY5"
      },
      "source": [
        "**Catatan:** Di Keras-Tensorflow,\n",
        "* `loss=\"mean_squared_error\"` **ekuivalen** dengan `loss=tf.keras.losses.MeanSquaredError()`\n",
        "* `optimizer=\"Adam\"` **ekuivalen** dengan `optimizer=tf.keras.optimizers.Adam()`"
      ]
    },
    {
      "cell_type": "markdown",
      "metadata": {
        "id": "d9VKlGGmEnY5"
      },
      "source": [
        "> <font color=\"red\"> **(Step 3) Train the Model** </font>\n",
        "\n",
        "Yang dilakukan pada tahap ini:\n",
        "* Tentukan *learning hyperparameters*, yaitu `epochs` dan `batch_size`\n",
        "* Inisiasi `validation_data` (opsional)\n",
        "\n",
        "Lihat dokumentasi **Keras Model.fit() method** [**disini**](https://keras.io/api/models/model_training_apis/#fit-method)."
      ]
    },
    {
      "cell_type": "code",
      "execution_count": null,
      "metadata": {
        "id": "H4G1nYuiSxhG"
      },
      "outputs": [],
      "source": [
        "# TODO: Tentukan jumlah epoch (iterasi)\n",
        "n_epoch = 50\n",
        "\n",
        "# TODO: Tentukan jumlah batch\n",
        "batch_size = 32"
      ]
    },
    {
      "cell_type": "code",
      "execution_count": null,
      "metadata": {
        "colab": {
          "background_save": true,
          "base_uri": "https://localhost:8080/",
          "height": 219
        },
        "id": "k_byVWzFEnY5",
        "outputId": "90a55a66-1180-4a65-b3c1-100f5b142e53"
      },
      "outputs": [
        {
          "name": "stdout",
          "output_type": "stream",
          "text": [
            "Epoch 1/50\n",
            "\u001b[1m413/413\u001b[0m \u001b[32m━━━━━━━━━━━━━━━━━━━━\u001b[0m\u001b[37m\u001b[0m \u001b[1m4s\u001b[0m 5ms/step - loss: 1.8897 - mean_absolute_error: 1.0660 - val_loss: 1.2183 - val_mean_absolute_error: 0.8575\n",
            "Epoch 2/50\n",
            "\u001b[1m413/413\u001b[0m \u001b[32m━━━━━━━━━━━━━━━━━━━━\u001b[0m\u001b[37m\u001b[0m \u001b[1m2s\u001b[0m 2ms/step - loss: 1.1445 - mean_absolute_error: 0.8448 - val_loss: 1.0594 - val_mean_absolute_error: 0.8241\n",
            "Epoch 3/50\n",
            "\u001b[1m413/413\u001b[0m \u001b[32m━━━━━━━━━━━━━━━━━━━━\u001b[0m\u001b[37m\u001b[0m \u001b[1m1s\u001b[0m 2ms/step - loss: 1.0036 - mean_absolute_error: 0.7927 - val_loss: 0.9467 - val_mean_absolute_error: 0.7706\n",
            "Epoch 4/50\n",
            "\u001b[1m413/413\u001b[0m \u001b[32m━━━━━━━━━━━━━━━━━━━━\u001b[0m\u001b[37m\u001b[0m \u001b[1m1s\u001b[0m 2ms/step - loss: 0.8935 - mean_absolute_error: 0.7442 - val_loss: 0.8583 - val_mean_absolute_error: 0.7237\n",
            "Epoch 5/50\n",
            "\u001b[1m413/413\u001b[0m \u001b[32m━━━━━━━━━━━━━━━━━━━━\u001b[0m\u001b[37m\u001b[0m \u001b[1m1s\u001b[0m 2ms/step - loss: 0.8148 - mean_absolute_error: 0.7065 - val_loss: 0.7823 - val_mean_absolute_error: 0.6969\n",
            "Epoch 6/50\n",
            "\u001b[1m413/413\u001b[0m \u001b[32m━━━━━━━━━━━━━━━━━━━━\u001b[0m\u001b[37m\u001b[0m \u001b[1m1s\u001b[0m 2ms/step - loss: 0.7254 - mean_absolute_error: 0.6628 - val_loss: 0.7133 - val_mean_absolute_error: 0.6626\n",
            "Epoch 7/50\n",
            "\u001b[1m413/413\u001b[0m \u001b[32m━━━━━━━━━━━━━━━━━━━━\u001b[0m\u001b[37m\u001b[0m \u001b[1m1s\u001b[0m 2ms/step - loss: 0.6689 - mean_absolute_error: 0.6294 - val_loss: 0.6502 - val_mean_absolute_error: 0.5960\n",
            "Epoch 8/50\n",
            "\u001b[1m413/413\u001b[0m \u001b[32m━━━━━━━━━━━━━━━━━━━━\u001b[0m\u001b[37m\u001b[0m \u001b[1m1s\u001b[0m 2ms/step - loss: 0.6187 - mean_absolute_error: 0.5915 - val_loss: 0.5966 - val_mean_absolute_error: 0.5947\n",
            "Epoch 9/50\n",
            "\u001b[1m413/413\u001b[0m \u001b[32m━━━━━━━━━━━━━━━━━━━━\u001b[0m\u001b[37m\u001b[0m \u001b[1m1s\u001b[0m 2ms/step - loss: 0.5435 - mean_absolute_error: 0.5507 - val_loss: 0.5630 - val_mean_absolute_error: 0.5684\n",
            "Epoch 10/50\n",
            "\u001b[1m413/413\u001b[0m \u001b[32m━━━━━━━━━━━━━━━━━━━━\u001b[0m\u001b[37m\u001b[0m \u001b[1m1s\u001b[0m 2ms/step - loss: 0.5183 - mean_absolute_error: 0.5362 - val_loss: 0.5485 - val_mean_absolute_error: 0.5597\n",
            "Epoch 11/50\n",
            "\u001b[1m413/413\u001b[0m \u001b[32m━━━━━━━━━━━━━━━━━━━━\u001b[0m\u001b[37m\u001b[0m \u001b[1m1s\u001b[0m 3ms/step - loss: 0.5177 - mean_absolute_error: 0.5352 - val_loss: 0.5378 - val_mean_absolute_error: 0.5438\n",
            "Epoch 12/50\n",
            "\u001b[1m413/413\u001b[0m \u001b[32m━━━━━━━━━━━━━━━━━━━━\u001b[0m\u001b[37m\u001b[0m \u001b[1m1s\u001b[0m 3ms/step - loss: 0.5227 - mean_absolute_error: 0.5345 - val_loss: 0.5329 - val_mean_absolute_error: 0.5330\n",
            "Epoch 13/50\n",
            "\u001b[1m413/413\u001b[0m \u001b[32m━━━━━━━━━━━━━━━━━━━━\u001b[0m\u001b[37m\u001b[0m \u001b[1m1s\u001b[0m 2ms/step - loss: 0.5122 - mean_absolute_error: 0.5238 - val_loss: 0.5309 - val_mean_absolute_error: 0.5390\n",
            "Epoch 14/50\n",
            "\u001b[1m380/413\u001b[0m \u001b[32m━━━━━━━━━━━━━━━━━━\u001b[0m\u001b[37m━━\u001b[0m \u001b[1m0s\u001b[0m 1ms/step - loss: 0.5191 - mean_absolute_error: 0.5258"
          ]
        }
      ],
      "source": [
        "reg_result = regression_model.fit(\n",
        "    x=[x_train_A, x_train_B],\n",
        "    y=[y_train, y_train],\n",
        "    epochs=n_epoch, batch_size=batch_size,\n",
        "    validation_data=([x_val_A, x_val_B], [y_val, y_val])\n",
        ")"
      ]
    },
    {
      "cell_type": "code",
      "execution_count": null,
      "metadata": {
        "colab": {
          "base_uri": "https://localhost:8080/",
          "height": 718
        },
        "id": "q-zusciEEnY6",
        "outputId": "901d6a9d-eddf-47da-83ae-22a55dfbe081"
      },
      "outputs": [
        {
          "data": {
            "image/png": "[encoded data removed]",
            "text/plain": [
              "<Figure size 1500x800 with 1 Axes>"
            ]
          },
          "metadata": {},
          "output_type": "display_data"
        }
      ],
      "source": [
        "pd.DataFrame(reg_result.history).plot(figsize=(15, 8))\n",
        "\n",
        "plt.title(\"Performance Result\")\n",
        "plt.xlabel(\"Epochs\")\n",
        "plt.ylabel(\"Scores\")\n",
        "plt.grid(True)\n",
        "plt.show()"
      ]
    },
    {
      "cell_type": "markdown",
      "metadata": {
        "id": "yK0U4l0HSxhH"
      },
      "source": [
        "<font color=\"red\">**- - - - STOP, CEK DULU! - - - -**</font>\n",
        "<br>Sebelum melakukan evaluasi dan penyimpanan model, **pastikan *val_loss* berada dibawah 0.50** dan **tidak terjadi *overfitting***.\n",
        "<br>Silakan ulangi langkah diatas sebagai langkah *hyperparameter tuning* jika terjadi."
      ]
    },
    {
      "cell_type": "markdown",
      "metadata": {
        "id": "8jSNYluQEnY6"
      },
      "source": [
        "> <font color=\"red\"> **(Step 4) Evaluate the Model with Test Data** </font>\n",
        "\n",
        "Lihat dokumentasi **Keras Model.evaluate() method** [**disini**](https://keras.io/api/models/model_training_apis/#evaluate-method)."
      ]
    },
    {
      "cell_type": "code",
      "execution_count": null,
      "metadata": {
        "colab": {
          "base_uri": "https://localhost:8080/"
        },
        "id": "9wScwvLSEnY6",
        "outputId": "a1f719b1-a36c-4370-8425-d6cf41637803"
      },
      "outputs": [
        {
          "name": "stdout",
          "output_type": "stream",
          "text": [
            "\u001b[1m129/129\u001b[0m \u001b[32m━━━━━━━━━━━━━━━━━━━━\u001b[0m\u001b[37m\u001b[0m \u001b[1m0s\u001b[0m 1ms/step - loss: 0.4722 - mean_absolute_error: 0.5060\n"
          ]
        },
        {
          "data": {
            "text/plain": [
              "[0.4783390462398529, 0.503055214881897]"
            ]
          },
          "execution_count": 13,
          "metadata": {},
          "output_type": "execute_result"
        }
      ],
      "source": [
        "regression_model.evaluate([x_test_A, x_test_B], [y_test, y_test])"
      ]
    },
    {
      "cell_type": "markdown",
      "metadata": {
        "id": "aOPhrumNEnY7"
      },
      "source": [
        "> <font color=\"red\"> **(Step 4) Save and Reload the Model** </font>"
      ]
    },
    {
      "cell_type": "code",
      "execution_count": null,
      "metadata": {
        "colab": {
          "base_uri": "https://localhost:8080/"
        },
        "id": "COnuyhzpEnY7",
        "outputId": "2fa753bb-d214-40c6-f424-84274139b433"
      },
      "outputs": [
        {
          "name": "stdout",
          "output_type": "stream",
          "text": [
            "Model telah disimpan dengan nama: coba.keras\n"
          ]
        }
      ],
      "source": [
        "# TODO: Berikan nama file untuk model, diakhiri dengan ekstensi .keras\n",
        "filename = \"coba.keras\"\n",
        "\n",
        "# save the model into your local storage\n",
        "regression_model.save(filename)\n",
        "\n",
        "print(f\"Model telah disimpan dengan nama: {filename}\")"
      ]
    },
    {
      "cell_type": "code",
      "execution_count": null,
      "metadata": {
        "colab": {
          "base_uri": "https://localhost:8080/"
        },
        "id": "DzLnNk67EnY8",
        "outputId": "9eae6ed1-d4ff-462d-a80e-b04803fff057"
      },
      "outputs": [
        {
          "name": "stdout",
          "output_type": "stream",
          "text": [
            "\u001b[1m1/1\u001b[0m \u001b[32m━━━━━━━━━━━━━━━━━━━━\u001b[0m\u001b[37m\u001b[0m \u001b[1m0s\u001b[0m 277ms/step\n"
          ]
        },
        {
          "data": {
            "text/plain": [
              "array([[0.37163824],\n",
              "       [1.421791  ],\n",
              "       [2.7137017 ]], dtype=float32)"
            ]
          },
          "execution_count": 15,
          "metadata": {},
          "output_type": "execute_result"
        }
      ],
      "source": [
        "# TODO: Reload model dan lakukan prediksi dengan data baru (x_new_A dan x_new_B)\n",
        "this_model = keras.models.load_model(filename)\n",
        "this_model.predict([x_new_A, x_new_B])"
      ]
    },
    {
      "cell_type": "markdown",
      "metadata": {
        "id": "Kd8Td1YsV23w"
      },
      "source": [
        "### Scoring\n",
        "Total `#TODO` = 10\n",
        "<br>Checklist:\n",
        "\n",
        "- [ ] Ubah \"features\" dan \"target\" dari Numpy Array ke Pandas DataFrame\n",
        "- [ ] Pisahkan data menjadi train, validation, dan test\n",
        "- [ ] Lakukan standarisasi untuk data train, validation, dan test menggunakan StandardScaler()\n",
        "- [ ] Lakukan normalisasi untuk data train, validation, dan test menggunakan MinMaxScaler()\n",
        "- [ ] Buat hidden layer pertama dengan 30 neuron dan ReLU sebagai activation function\n",
        "- [ ] Buat hidden layer kedua dengan 30 neuron dan ReLU sebagai activation function\n",
        "- [ ] Tentukan jumlah epoch (iterasi)\n",
        "- [ ] Tentukan jumlah batch\n",
        "- [ ] Berikan nama file untuk model, diakhiri dengan ekstensi .keras\n",
        "- [ ] Reload model dan lakukan prediksi dengan data baru (`x_new_A` dan `x_new_B`)"
      ]
    },
    {
      "cell_type": "markdown",
      "metadata": {
        "id": "nu54eCVrV23w"
      },
      "source": [
        "### Additional readings\n",
        "- N/A"
      ]
    },
    {
      "cell_type": "markdown",
      "metadata": {
        "id": "8lozabSPV23w"
      },
      "source": [
        "### Copyright © 2024 Startup Campus, Indonesia\n",
        "* Prepared by **Nicholas Dominic, M.Kom.** [(profile)](https://linkedin.com/in/nicholas-dominic)\n",
        "* You may **NOT** use this file except there is written permission from PT. Kampus Merdeka Belajar (Startup Campus).\n",
        "* Please address your questions to mentors."
      ]
    }
  ],
  "metadata": {
    "accelerator": "GPU",
    "colab": {
      "gpuType": "T4",
      "provenance": []
    },
    "kernelspec": {
      "display_name": "Python 3 (ipykernel)",
      "language": "python",
      "name": "python3"
    },
    "language_info": {
      "codemirror_mode": {
        "name": "ipython",
        "version": 3
      },
      "file_extension": ".py",
      "mimetype": "text/x-python",
      "name": "python",
      "nbconvert_exporter": "python",
      "pygments_lexer": "ipython3",
      "version": "3.11.9"
    }
  },
  "nbformat": 4,
  "nbformat_minor": 0
}